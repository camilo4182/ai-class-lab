{
 "metadata": {
  "language_info": {
   "codemirror_mode": {
    "name": "ipython",
    "version": 3
   },
   "file_extension": ".py",
   "mimetype": "text/x-python",
   "name": "python",
   "nbconvert_exporter": "python",
   "pygments_lexer": "ipython3",
   "version": "3.8.2-final"
  },
  "orig_nbformat": 2,
  "kernelspec": {
   "name": "python38264bit7e332521644a4a0ea240a2c127175d92",
   "display_name": "Python 3.8.2 64-bit",
   "metadata": {
    "interpreter": {
     "hash": "a3f4397c5ba2ad3b4d016399a41af747e2f580a93f6fd834f7de2c957ebf4eda"
    }
   }
  }
 },
 "nbformat": 4,
 "nbformat_minor": 2,
 "cells": [
  {
   "cell_type": "code",
   "execution_count": 1,
   "metadata": {},
   "outputs": [],
   "source": [
    "import functools"
   ]
  },
  {
   "cell_type": "code",
   "execution_count": 2,
   "metadata": {
    "tags": []
   },
   "outputs": [
    {
     "output_type": "execute_result",
     "data": {
      "text/plain": "[&#39;A1 L&#39;,\n &#39;A1 B&#39;,\n &#39;A2 L&#39;,\n &#39;A2 T&#39;,\n &#39;A2 R&#39;,\n &#39;A2 B&#39;,\n &#39;B1 L&#39;,\n &#39;B1 T&#39;,\n &#39;B1 R&#39;,\n &#39;B1 B&#39;,\n &#39;B2 T&#39;,\n &#39;B2 R&#39;]"
     },
     "metadata": {},
     "execution_count": 2
    }
   ],
   "source": [
    "def flatten_boxes(boxes):\n",
    "    list_of_boxes = functools.reduce(lambda m, box: m + list(map(lambda side: f'{box[0]} {side}', list(box[1]))), boxes, [])\n",
    "    i = 0\n",
    "    while(i < len(list_of_boxes)):\n",
    "        string = list_of_boxes[i].split(' ')\n",
    "        if string[0] == 'B2' and (string[1] == 'L' or string[1] == 'B'):\n",
    "            list_of_boxes.pop(i)\n",
    "        elif string[0] == 'A1' and (string[1] == 'R' or string[1] == 'T'):\n",
    "            list_of_boxes.pop(i)\n",
    "        else:\n",
    "            i+=1\n",
    "    return list_of_boxes\n",
    "\n",
    "turn = [('A1', 'LTRB'), ('A2', 'LTRB'), ('B1', 'LTRB'), ('B2', 'LTRB')]\n",
    "flatten_boxes(turn)"
   ]
  },
  {
   "cell_type": "code",
   "execution_count": 26,
   "metadata": {},
   "outputs": [],
   "source": [
    "def remove_move(boxes, move):\n",
    "    move_box, move_side = move.split(' ')\n",
    "    clone = boxes[:]\n",
    "\n",
    "    for i, box in enumerate(clone):\n",
    "        if box[0] == move_box:\n",
    "            new_sides = box[1].replace(move_side, '')\n",
    "            clone[i] = (box[0], new_sides) if new_sides != '' else None\n",
    "            break\n",
    "\n",
    "    nonone = list(filter(lambda b: not (b is None), clone))\n",
    "\n",
    "    return nonone"
   ]
  },
  {
   "cell_type": "code",
   "execution_count": 5,
   "metadata": {},
   "outputs": [],
   "source": [
    "def is_candidate_closed_by(box, move):\n",
    "    move_box, move_side = move.split(' ')\n",
    "\n",
    "    opposites = {\n",
    "        'T': 'B',\n",
    "        'B': 'T',\n",
    "        'L': 'R',\n",
    "        'R': 'L'\n",
    "    }\n",
    "\n",
    "    if box[0] == move_box and box[1] == move_side: # closes box\n",
    "        return True\n",
    "    if box[0] != move_box and box[1] == opposites[move_side] and move_box[0] == box[0][0]: # closes same column\n",
    "        return True\n",
    "    elif box[0] != move_box and box[1] == opposites[move_side] and move_box[1] == box[0][1]: # closes same row\n",
    "        return True\n",
    "\n",
    "    return False"
   ]
  },
  {
   "cell_type": "code",
   "execution_count": 27,
   "metadata": {},
   "outputs": [],
   "source": [
    "def closed_boxes(boxes, move):\n",
    "    candidates = list(filter(lambda b: len(b[1]) == 1, boxes))\n",
    "    closed = list(filter(lambda b: is_candidate_closed_by(b, move), candidates))\n",
    "\n",
    "    return len(closed)"
   ]
  },
  {
   "cell_type": "code",
   "execution_count": 35,
   "metadata": {
    "tags": []
   },
   "outputs": [
    {
     "output_type": "execute_result",
     "data": {
      "text/plain": "0"
     },
     "metadata": {},
     "execution_count": 35
    }
   ],
   "source": [
    "# boxes [('A1', 'LTRB'), ('A2', 'LTRB'), ('B1', 'LTRB'), ('B2', 'LTRB')] - primera optimizacion, eliminar jugadas repetidas\n",
    "def minimax(boxes, max_turn, depth, max_score, min_score):\n",
    "    if len(boxes) == 0 or depth == 0: # segunda optimizacion, cortar en profundidad y evaluar\n",
    "        return max_score - min_score\n",
    "\n",
    "    if max_turn:\n",
    "        max_eval = -1000\n",
    "        children =  flatten_boxes(boxes)\n",
    "        for move in children:\n",
    "            new_moves = remove_move(boxes, move)\n",
    "            new_max_score = max_score + closed_boxes(boxes, move) # tercera optimizacion, usar numero de cajas cerradas para ordenar movimientos\n",
    "            rating = minimax(new_moves, not max_turn, depth - 1, new_max_score, min_score)\n",
    "            max_eval = max(rating, max_eval) # cuarta optimizacion, usar poda alfa-beta\n",
    "        return max_eval\n",
    "    else:\n",
    "        min_eval = 1000\n",
    "        children =  flatten_boxes(boxes)\n",
    "        for move in children:\n",
    "            new_moves = remove_move(boxes, move)\n",
    "            new_min_score = min_score + closed_boxes(boxes, move)\n",
    "            rating = minimax(new_moves, not max_turn, depth - 1, max_score, new_min_score)\n",
    "            min_eval = min(rating, min_eval)\n",
    "        return min_eval\n",
    "\n",
    "minimax([('A1', 'LTRB'), ('A2', 'LTRB'), ('B1', 'LTRB'), ('B2', 'LTRB')], True, 3, 0, 0)\n",
    "#minimax([('A1', 'LTRB'), ('A2', 'LTRB')], True, 3, 0, 0)\n"
   ]
  },
  {
   "cell_type": "code",
   "execution_count": null,
   "metadata": {},
   "outputs": [],
   "source": []
  }
 ]
}